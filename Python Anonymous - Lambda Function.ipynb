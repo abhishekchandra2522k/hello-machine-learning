{
 "cells": [
  {
   "cell_type": "markdown",
   "metadata": {},
   "source": [
    "### Python Anonymous - Lambda Function\n",
    "\n",
    "In pyhton, Anonymous function is defined without a name.\n",
    "\n",
    "While normal functionalities are defined by <b>def</b> keyword, In python anonymous function is defined by lambda keyword.\n",
    "\n",
    "Hence anonymous functions are also known as lambda function"
   ]
  },
  {
   "cell_type": "code",
   "execution_count": 1,
   "metadata": {},
   "outputs": [
    {
     "data": {
      "text/plain": [
       "<function __main__.<lambda>(arguments)>"
      ]
     },
     "execution_count": 1,
     "metadata": {},
     "output_type": "execute_result"
    }
   ],
   "source": [
    "# Syntax :\n",
    "\n",
    "lambda arguments : expression"
   ]
  },
  {
   "cell_type": "markdown",
   "metadata": {},
   "source": [
    "Note : Lambda function or anonymous function can have any number of arguments but only one expression.\n",
    "\n",
    "The expression is evaluated and returned.\n",
    "\n",
    "Lambda functions can be used wherever function objects are required."
   ]
  },
  {
   "cell_type": "code",
   "execution_count": 2,
   "metadata": {},
   "outputs": [
    {
     "name": "stdout",
     "output_type": "stream",
     "text": [
      "4\n"
     ]
    }
   ],
   "source": [
    "#Program to show the use of lambda function\n",
    "\n",
    "double  = lambda x : x * 2\n",
    "# this definition is equal to\n",
    "# def double(x):\n",
    "#    return x * 2\n",
    "\n",
    "\n",
    "# double will now return (argument * 2) to the assigned variable.\n",
    "y = double(2)\n",
    "\n",
    "print(y)"
   ]
  },
  {
   "cell_type": "markdown",
   "metadata": {},
   "source": [
    "## Use of Lambda Function\n",
    "\n",
    "We use lambda functions when we require a nameless function for a short period of time.\n",
    "\n",
    "In python, we generally use it as an argument to a higher-order function (a function that takes in other functions as arguments). Lambda functions are used along with built-in functions like filter(), map() etc."
   ]
  },
  {
   "cell_type": "code",
   "execution_count": 3,
   "metadata": {},
   "outputs": [
    {
     "name": "stdout",
     "output_type": "stream",
     "text": [
      "0\n",
      "0\n"
     ]
    }
   ],
   "source": [
    "# Example\n",
    "\n",
    "#named function\n",
    "def polynomial(x):\n",
    "    return x**2 + 5*x + 4\n",
    "print(polynomial(-4))\n",
    "\n",
    "#lambda\n",
    "print((lambda x: x**2 + 5*x + 4) (-4))"
   ]
  },
  {
   "cell_type": "markdown",
   "metadata": {},
   "source": [
    "## filter()\n",
    "\n",
    "\n",
    "The filter function in python takes function and a list as arguments.\n",
    "\n",
    "The function is called with all the items in the list and <b>a new generator is returned which contains items for which the function evaluates for True</b>\n",
    "\n",
    "We have to convert "
   ]
  },
  {
   "cell_type": "code",
   "execution_count": 7,
   "metadata": {},
   "outputs": [
    {
     "name": "stdout",
     "output_type": "stream",
     "text": [
      "[1, 3, 5, 7, 9, 11, 13, 15]\n"
     ]
    }
   ],
   "source": [
    "#Example for filter()\n",
    "# Syntax:\n",
    "# filter(function, iterable)\n",
    "\n",
    "my_list = [1,2,3,4,5,6,7,8,9,10,11,12,13,14,15]\n",
    "\n",
    "new_list = list(filter(lambda x : x % 2 != 0, my_list))\n",
    "\n",
    "print(new_list)"
   ]
  },
  {
   "cell_type": "markdown",
   "metadata": {},
   "source": [
    "## map()\n",
    "\n",
    "The map function in python is also similar to filter() function and it takes a function and list as arguments.\n",
    "\n",
    "The function is called with all the items in the list and <b> a new list is returned which contains items returned by that function for each item </b>\n",
    "\n"
   ]
  },
  {
   "cell_type": "code",
   "execution_count": 8,
   "metadata": {},
   "outputs": [
    {
     "name": "stdout",
     "output_type": "stream",
     "text": [
      "[2, 6, 10, 14, 18, 22, 26, 30, 34]\n"
     ]
    }
   ],
   "source": [
    "# map(function, iterable)\n",
    "#example:\n",
    "\n",
    "my_list2 = [1,3,5,7,9,11,13,15,17]\n",
    "\n",
    "new_list2 = list(map(lambda x : x * 2, my_list2))\n",
    "\n",
    "print(new_list2)"
   ]
  }
 ],
 "metadata": {
  "kernelspec": {
   "display_name": "Python 3",
   "language": "python",
   "name": "python3"
  },
  "language_info": {
   "codemirror_mode": {
    "name": "ipython",
    "version": 3
   },
   "file_extension": ".py",
   "mimetype": "text/x-python",
   "name": "python",
   "nbconvert_exporter": "python",
   "pygments_lexer": "ipython3",
   "version": "3.8.2"
  }
 },
 "nbformat": 4,
 "nbformat_minor": 4
}
