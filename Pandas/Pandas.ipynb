{
 "cells": [
  {
   "cell_type": "markdown",
   "metadata": {},
   "source": [
    "# Pandas in Python\n",
    "\n",
    "<hr>\n",
    "\n",
    "Prerequisite :\n",
    "Python Programming Language\n",
    "\n",
    "    Dictionaries\n",
    "    Lists\n",
    "    Tuples\n",
    "    Sets\n",
    "    etc."
   ]
  },
  {
   "cell_type": "markdown",
   "metadata": {},
   "source": [
    "Pandas (<b>PAN</b>el <b>DA</b>ta), a python library allows easy and fast data analysis and manipulation tools by providing numerical tables and time series data structures called DataFrames and Series, respectively. \n",
    "\n",
    "Pandas was created to do the following : \n",
    "\n",
    "    1. Provide data structures that can handle both time and non-time series data.\n",
    "    \n",
    "    2. Allow mathematical operations on the data structures, ignoring the meta data of data structures.\n",
    "    \n",
    "    3. Use Relational Operations like those found in programming languages like SQL (join, groupby, etc.)\n",
    "    \n",
    "    4. Handle missing data"
   ]
  },
  {
   "cell_type": "markdown",
   "metadata": {},
   "source": [
    "In the below code, We created a pandas dataframe object, a tabular data structure that resembles a spreadsheet like those in excel.\n",
    "\n",
    "For those familiar with SQL, you can view Dataframe as a SQL table.\n",
    "\n",
    "The dataframe we created consists of four columns, each with entries of different data types (integer, float, string and boolean)"
   ]
  },
  {
   "cell_type": "code",
   "execution_count": 1,
   "metadata": {},
   "outputs": [
    {
     "data": {
      "text/html": [
       "<div>\n",
       "<style scoped>\n",
       "    .dataframe tbody tr th:only-of-type {\n",
       "        vertical-align: middle;\n",
       "    }\n",
       "\n",
       "    .dataframe tbody tr th {\n",
       "        vertical-align: top;\n",
       "    }\n",
       "\n",
       "    .dataframe thead th {\n",
       "        text-align: right;\n",
       "    }\n",
       "</style>\n",
       "<table border=\"1\" class=\"dataframe\">\n",
       "  <thead>\n",
       "    <tr style=\"text-align: right;\">\n",
       "      <th></th>\n",
       "      <th>State</th>\n",
       "      <th>Population</th>\n",
       "      <th>Electoral Votes</th>\n",
       "      <th>West of Mississippi</th>\n",
       "    </tr>\n",
       "  </thead>\n",
       "  <tbody>\n",
       "    <tr>\n",
       "      <th>0</th>\n",
       "      <td>Texas</td>\n",
       "      <td>27860000.0</td>\n",
       "      <td>38</td>\n",
       "      <td>True</td>\n",
       "    </tr>\n",
       "    <tr>\n",
       "      <th>1</th>\n",
       "      <td>Rhode Island</td>\n",
       "      <td>1060000.0</td>\n",
       "      <td>3</td>\n",
       "      <td>False</td>\n",
       "    </tr>\n",
       "    <tr>\n",
       "      <th>2</th>\n",
       "      <td>Nebraska</td>\n",
       "      <td>1910000.0</td>\n",
       "      <td>5</td>\n",
       "      <td>True</td>\n",
       "    </tr>\n",
       "  </tbody>\n",
       "</table>\n",
       "</div>"
      ],
      "text/plain": [
       "          State  Population  Electoral Votes  West of Mississippi\n",
       "0         Texas  27860000.0               38                 True\n",
       "1  Rhode Island   1060000.0                3                False\n",
       "2      Nebraska   1910000.0                5                 True"
      ]
     },
     "execution_count": 1,
     "metadata": {},
     "output_type": "execute_result"
    }
   ],
   "source": [
    "import pandas as pd\n",
    "\n",
    "\n",
    "#create data \n",
    "\n",
    "states  = ['Texas', 'Rhode Island', 'Nebraska']  #String type\n",
    "\n",
    "population = [27.86E6, 1.06E6, 1.91E6] #Float type\n",
    "\n",
    "electoral_votes = [38, 3, 5]\n",
    "\n",
    "is_west_of_MS = [True, False, True]  #Boolean , MS ~ Mississippi River\n",
    "\n",
    "#Create and display dataframe\n",
    "\n",
    "headers = ('State', 'Population', 'Electoral Votes', 'West of Mississippi')\n",
    "\n",
    "data = (states, population, electoral_votes, is_west_of_MS)\n",
    "\n",
    "#zip() takes iterables as an argument and returns an iterator, \n",
    "#zip() can accept any type of iterable, such as files, lists, tuples, dictionaries, sets, and so on.\n",
    "#while, dict() is used to convert the iterator into key and value pair.\n",
    "\n",
    "#inside story : zip() does ('State' : states, 'Population' : population, 'Electoral Votes' : electoral_votes, 'West of Mississippi' : is_west_of_MS)\n",
    "# like this inside the system, (arranging according to corresponding index values)\n",
    "# while dict() helps to convert this into {key : value} pair\n",
    "# dict = {'State' : states, 'Population' : population, 'Electoral Votes' : electoral_votes, 'West of Mississippi' : is_west_of_MS}\n",
    "\n",
    "\n",
    "data_dict = dict(zip(headers, data))\n",
    "\n",
    "df1 = pd.DataFrame(data_dict)\n",
    "\n",
    "df1"
   ]
  },
  {
   "cell_type": "code",
   "execution_count": 2,
   "metadata": {},
   "outputs": [
    {
     "name": "stdout",
     "output_type": "stream",
     "text": [
      "          State  Population  Electoral Votes  West of Mississippi\n",
      "0         Texas  27860000.0               38                 True\n",
      "1  Rhode Island   1060000.0                3                False\n",
      "2      Nebraska   1910000.0                5                 True\n"
     ]
    }
   ],
   "source": [
    "print(df1)"
   ]
  },
  {
   "cell_type": "markdown",
   "metadata": {},
   "source": [
    "### Simple example of dict(zip()) use.\n",
    "\n",
    "keys = ['a', 'b', 'c']\n",
    "\n",
    "values = [1, 2, 3]\n",
    "\n",
    "dictionary = dict(zip(keys, values))\n",
    "\n",
    "print(dictionary)\n",
    "\n",
    "\n",
    "O : {'a': 1, 'b': 2, 'c': 3}"
   ]
  },
  {
   "cell_type": "markdown",
   "metadata": {},
   "source": [
    "![](pandas_1.jpeg)"
   ]
  },
  {
   "cell_type": "markdown",
   "metadata": {},
   "source": [
    "Dataset link : https://archive.ics.uci.edu/ml/machine-learning-databases/autos/"
   ]
  },
  {
   "cell_type": "code",
   "execution_count": 3,
   "metadata": {},
   "outputs": [
    {
     "data": {
      "text/html": [
       "<div>\n",
       "<style scoped>\n",
       "    .dataframe tbody tr th:only-of-type {\n",
       "        vertical-align: middle;\n",
       "    }\n",
       "\n",
       "    .dataframe tbody tr th {\n",
       "        vertical-align: top;\n",
       "    }\n",
       "\n",
       "    .dataframe thead th {\n",
       "        text-align: right;\n",
       "    }\n",
       "</style>\n",
       "<table border=\"1\" class=\"dataframe\">\n",
       "  <thead>\n",
       "    <tr style=\"text-align: right;\">\n",
       "      <th></th>\n",
       "      <th>0</th>\n",
       "      <th>1</th>\n",
       "      <th>2</th>\n",
       "      <th>3</th>\n",
       "      <th>4</th>\n",
       "      <th>5</th>\n",
       "      <th>6</th>\n",
       "      <th>7</th>\n",
       "      <th>8</th>\n",
       "      <th>9</th>\n",
       "      <th>...</th>\n",
       "      <th>16</th>\n",
       "      <th>17</th>\n",
       "      <th>18</th>\n",
       "      <th>19</th>\n",
       "      <th>20</th>\n",
       "      <th>21</th>\n",
       "      <th>22</th>\n",
       "      <th>23</th>\n",
       "      <th>24</th>\n",
       "      <th>25</th>\n",
       "    </tr>\n",
       "  </thead>\n",
       "  <tbody>\n",
       "    <tr>\n",
       "      <th>0</th>\n",
       "      <td>3</td>\n",
       "      <td>NaN</td>\n",
       "      <td>alfa-romero</td>\n",
       "      <td>gas</td>\n",
       "      <td>std</td>\n",
       "      <td>two</td>\n",
       "      <td>convertible</td>\n",
       "      <td>rwd</td>\n",
       "      <td>front</td>\n",
       "      <td>88.6</td>\n",
       "      <td>...</td>\n",
       "      <td>130</td>\n",
       "      <td>mpfi</td>\n",
       "      <td>3.47</td>\n",
       "      <td>2.68</td>\n",
       "      <td>9.0</td>\n",
       "      <td>111.0</td>\n",
       "      <td>5000.0</td>\n",
       "      <td>21</td>\n",
       "      <td>27</td>\n",
       "      <td>13495.0</td>\n",
       "    </tr>\n",
       "    <tr>\n",
       "      <th>1</th>\n",
       "      <td>3</td>\n",
       "      <td>NaN</td>\n",
       "      <td>alfa-romero</td>\n",
       "      <td>gas</td>\n",
       "      <td>std</td>\n",
       "      <td>two</td>\n",
       "      <td>convertible</td>\n",
       "      <td>rwd</td>\n",
       "      <td>front</td>\n",
       "      <td>88.6</td>\n",
       "      <td>...</td>\n",
       "      <td>130</td>\n",
       "      <td>mpfi</td>\n",
       "      <td>3.47</td>\n",
       "      <td>2.68</td>\n",
       "      <td>9.0</td>\n",
       "      <td>111.0</td>\n",
       "      <td>5000.0</td>\n",
       "      <td>21</td>\n",
       "      <td>27</td>\n",
       "      <td>16500.0</td>\n",
       "    </tr>\n",
       "    <tr>\n",
       "      <th>2</th>\n",
       "      <td>1</td>\n",
       "      <td>NaN</td>\n",
       "      <td>alfa-romero</td>\n",
       "      <td>gas</td>\n",
       "      <td>std</td>\n",
       "      <td>two</td>\n",
       "      <td>hatchback</td>\n",
       "      <td>rwd</td>\n",
       "      <td>front</td>\n",
       "      <td>94.5</td>\n",
       "      <td>...</td>\n",
       "      <td>152</td>\n",
       "      <td>mpfi</td>\n",
       "      <td>2.68</td>\n",
       "      <td>3.47</td>\n",
       "      <td>9.0</td>\n",
       "      <td>154.0</td>\n",
       "      <td>5000.0</td>\n",
       "      <td>19</td>\n",
       "      <td>26</td>\n",
       "      <td>16500.0</td>\n",
       "    </tr>\n",
       "    <tr>\n",
       "      <th>3</th>\n",
       "      <td>2</td>\n",
       "      <td>164.0</td>\n",
       "      <td>audi</td>\n",
       "      <td>gas</td>\n",
       "      <td>std</td>\n",
       "      <td>four</td>\n",
       "      <td>sedan</td>\n",
       "      <td>fwd</td>\n",
       "      <td>front</td>\n",
       "      <td>99.8</td>\n",
       "      <td>...</td>\n",
       "      <td>109</td>\n",
       "      <td>mpfi</td>\n",
       "      <td>3.19</td>\n",
       "      <td>3.40</td>\n",
       "      <td>10.0</td>\n",
       "      <td>102.0</td>\n",
       "      <td>5500.0</td>\n",
       "      <td>24</td>\n",
       "      <td>30</td>\n",
       "      <td>13950.0</td>\n",
       "    </tr>\n",
       "    <tr>\n",
       "      <th>4</th>\n",
       "      <td>2</td>\n",
       "      <td>164.0</td>\n",
       "      <td>audi</td>\n",
       "      <td>gas</td>\n",
       "      <td>std</td>\n",
       "      <td>four</td>\n",
       "      <td>sedan</td>\n",
       "      <td>4wd</td>\n",
       "      <td>front</td>\n",
       "      <td>99.4</td>\n",
       "      <td>...</td>\n",
       "      <td>136</td>\n",
       "      <td>mpfi</td>\n",
       "      <td>3.19</td>\n",
       "      <td>3.40</td>\n",
       "      <td>8.0</td>\n",
       "      <td>115.0</td>\n",
       "      <td>5500.0</td>\n",
       "      <td>18</td>\n",
       "      <td>22</td>\n",
       "      <td>17450.0</td>\n",
       "    </tr>\n",
       "  </tbody>\n",
       "</table>\n",
       "<p>5 rows × 26 columns</p>\n",
       "</div>"
      ],
      "text/plain": [
       "   0      1            2    3    4     5            6    7      8     9   ...  \\\n",
       "0   3    NaN  alfa-romero  gas  std   two  convertible  rwd  front  88.6  ...   \n",
       "1   3    NaN  alfa-romero  gas  std   two  convertible  rwd  front  88.6  ...   \n",
       "2   1    NaN  alfa-romero  gas  std   two    hatchback  rwd  front  94.5  ...   \n",
       "3   2  164.0         audi  gas  std  four        sedan  fwd  front  99.8  ...   \n",
       "4   2  164.0         audi  gas  std  four        sedan  4wd  front  99.4  ...   \n",
       "\n",
       "    16    17    18    19    20     21      22  23  24       25  \n",
       "0  130  mpfi  3.47  2.68   9.0  111.0  5000.0  21  27  13495.0  \n",
       "1  130  mpfi  3.47  2.68   9.0  111.0  5000.0  21  27  16500.0  \n",
       "2  152  mpfi  2.68  3.47   9.0  154.0  5000.0  19  26  16500.0  \n",
       "3  109  mpfi  3.19  3.40  10.0  102.0  5500.0  24  30  13950.0  \n",
       "4  136  mpfi  3.19  3.40   8.0  115.0  5500.0  18  22  17450.0  \n",
       "\n",
       "[5 rows x 26 columns]"
      ]
     },
     "execution_count": 3,
     "metadata": {},
     "output_type": "execute_result"
    }
   ],
   "source": [
    "data = pd.read_csv(\"imports-85.data\", na_values = \"?\", header = None)\n",
    "data.head()"
   ]
  },
  {
   "cell_type": "code",
   "execution_count": 4,
   "metadata": {},
   "outputs": [
    {
     "data": {
      "text/plain": [
       "pandas.core.frame.DataFrame"
      ]
     },
     "execution_count": 4,
     "metadata": {},
     "output_type": "execute_result"
    }
   ],
   "source": [
    "# type of data is DataFrame\n",
    "type(data)"
   ]
  },
  {
   "cell_type": "code",
   "execution_count": 5,
   "metadata": {},
   "outputs": [
    {
     "data": {
      "text/plain": [
       "0       int64\n",
       "1     float64\n",
       "2      object\n",
       "3      object\n",
       "4      object\n",
       "5      object\n",
       "6      object\n",
       "7      object\n",
       "8      object\n",
       "9     float64\n",
       "10    float64\n",
       "11    float64\n",
       "12    float64\n",
       "13      int64\n",
       "14     object\n",
       "15     object\n",
       "16      int64\n",
       "17     object\n",
       "18    float64\n",
       "19    float64\n",
       "20    float64\n",
       "21    float64\n",
       "22    float64\n",
       "23      int64\n",
       "24      int64\n",
       "25    float64\n",
       "dtype: object"
      ]
     },
     "execution_count": 5,
     "metadata": {},
     "output_type": "execute_result"
    }
   ],
   "source": [
    "#respective column data types can be determined using dataFrame.dtypes\n",
    "\n",
    "data.dtypes"
   ]
  },
  {
   "cell_type": "code",
   "execution_count": null,
   "metadata": {},
   "outputs": [],
   "source": []
  }
 ],
 "metadata": {
  "kernelspec": {
   "display_name": "Python 3",
   "language": "python",
   "name": "python3"
  },
  "language_info": {
   "codemirror_mode": {
    "name": "ipython",
    "version": 3
   },
   "file_extension": ".py",
   "mimetype": "text/x-python",
   "name": "python",
   "nbconvert_exporter": "python",
   "pygments_lexer": "ipython3",
   "version": "3.8.2"
  }
 },
 "nbformat": 4,
 "nbformat_minor": 4
}
