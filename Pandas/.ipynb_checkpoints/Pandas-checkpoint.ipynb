{
 "cells": [
  {
   "cell_type": "markdown",
   "metadata": {},
   "source": [
    "# Pandas in Python\n",
    "\n",
    "Prerequisite :\n",
    "Python Programming Language\n",
    "\n",
    "    Dictionaries\n",
    "    Lists\n",
    "    Tuples\n",
    "    Sets\n",
    "    etc."
   ]
  },
  {
   "cell_type": "markdown",
   "metadata": {},
   "source": [
    "The pandas (<b>PAN</b>el <b>DA</b>ta), a python library allows easy and fast data analysis and manipulation tools by providing numerical tables and time series data structures called DataFrames and Series, respectively. \n",
    "\n",
    "Pandas was created to do the following : \n",
    "\n",
    "    1. Provide data structures that can handle both time and non-time series data.\n",
    "    \n",
    "    2. Allow mathematical operations on the data structures, ignoring the meta data of data structures.\n",
    "    \n",
    "    3. Use Relational Operations like those found in programming languages like SQL (join, groupby, etc.)\n",
    "    \n",
    "    4. Handle missing data"
   ]
  },
  {
   "cell_type": "markdown",
   "metadata": {},
   "source": [
    "In the below code, We created a pandas dataframe object, a tabular data structure that resembles a spreadsheet like those in excel.\n",
    "\n",
    "For those familiar with SQL, you can view Dataframe as a SQL table.\n",
    "\n",
    "The dataframe we created consists of four columns, each with entries of different data types (integer, float, string and boolean)"
   ]
  },
  {
   "cell_type": "code",
   "execution_count": 5,
   "metadata": {},
   "outputs": [
    {
     "data": {
      "text/html": [
       "<div>\n",
       "<style scoped>\n",
       "    .dataframe tbody tr th:only-of-type {\n",
       "        vertical-align: middle;\n",
       "    }\n",
       "\n",
       "    .dataframe tbody tr th {\n",
       "        vertical-align: top;\n",
       "    }\n",
       "\n",
       "    .dataframe thead th {\n",
       "        text-align: right;\n",
       "    }\n",
       "</style>\n",
       "<table border=\"1\" class=\"dataframe\">\n",
       "  <thead>\n",
       "    <tr style=\"text-align: right;\">\n",
       "      <th></th>\n",
       "      <th>State</th>\n",
       "      <th>Population</th>\n",
       "      <th>Electoral Votes</th>\n",
       "      <th>West of Mississippi</th>\n",
       "    </tr>\n",
       "  </thead>\n",
       "  <tbody>\n",
       "    <tr>\n",
       "      <th>0</th>\n",
       "      <td>Texas</td>\n",
       "      <td>27860000.0</td>\n",
       "      <td>38</td>\n",
       "      <td>True</td>\n",
       "    </tr>\n",
       "    <tr>\n",
       "      <th>1</th>\n",
       "      <td>Rhode Island</td>\n",
       "      <td>1060000.0</td>\n",
       "      <td>3</td>\n",
       "      <td>False</td>\n",
       "    </tr>\n",
       "    <tr>\n",
       "      <th>2</th>\n",
       "      <td>Nebraska</td>\n",
       "      <td>1910000.0</td>\n",
       "      <td>5</td>\n",
       "      <td>True</td>\n",
       "    </tr>\n",
       "  </tbody>\n",
       "</table>\n",
       "</div>"
      ],
      "text/plain": [
       "          State  Population  Electoral Votes  West of Mississippi\n",
       "0         Texas  27860000.0               38                 True\n",
       "1  Rhode Island   1060000.0                3                False\n",
       "2      Nebraska   1910000.0                5                 True"
      ]
     },
     "execution_count": 5,
     "metadata": {},
     "output_type": "execute_result"
    }
   ],
   "source": [
    "import pandas as pd\n",
    "\n",
    "\n",
    "#create data \n",
    "\n",
    "states  = ['Texas', 'Rhode Island', 'Nebraska']  #String type\n",
    "\n",
    "population = [27.86E6, 1.06E6, 1.91E6] #Float type\n",
    "\n",
    "electoral_votes = [38, 3, 5]\n",
    "\n",
    "is_west_of_MS = [True, False, True]  #Boolean , MS ~ Mississippi River\n",
    "\n",
    "#Create and display dataframe\n",
    "\n",
    "headers = ('State', 'Population', 'Electoral Votes', 'West of Mississippi')\n",
    "\n",
    "data = (states, population, electoral_votes, is_west_of_MS)\n",
    "\n",
    "#zip() takes iterables as an argument and returns an iterator, \n",
    "#zip() can accept any type of iterable, such as files, lists, tuples, dictionaries, sets, and so on.\n",
    "#while, dict() is used to convert the iterator into key and value pair.\n",
    "\n",
    "#inside story : zip() does ('State' : states, 'Population' : population, 'Electoral Votes' : electoral_votes, 'West of Mississippi' : is_west_of_MS)\n",
    "# like this inside the system, (arranging according to corresponding index values)\n",
    "# while dict() helps to convert this into {key : value} pair\n",
    "# dict = {'State' : states, 'Population' : population, 'Electoral Votes' : electoral_votes, 'West of Mississippi' : is_west_of_MS}\n",
    "\n",
    "\n",
    "data_dict = dict(zip(headers, data))\n",
    "\n",
    "df1 = pd.DataFrame(data_dict)\n",
    "\n",
    "df1"
   ]
  },
  {
   "cell_type": "code",
   "execution_count": 4,
   "metadata": {},
   "outputs": [
    {
     "name": "stdout",
     "output_type": "stream",
     "text": [
      "          State  Population  Electoral Votes  West of Mississippi\n",
      "0         Texas  27860000.0               38                 True\n",
      "1  Rhode Island   1060000.0                3                False\n",
      "2      Nebraska   1910000.0                5                 True\n"
     ]
    }
   ],
   "source": [
    "print(df1)"
   ]
  },
  {
   "cell_type": "markdown",
   "metadata": {},
   "source": [
    "### Simple example of dict(zip()) use.\n",
    "\n",
    "keys = ['a', 'b', 'c']\n",
    "\n",
    "values = [1, 2, 3]\n",
    "\n",
    "dictionary = dict(zip(keys, values))\n",
    "\n",
    "print(dictionary)\n",
    "\n",
    "\n",
    "O : {'a': 1, 'b': 2, 'c': 3}"
   ]
  },
  {
   "cell_type": "markdown",
   "metadata": {},
   "source": [
    "![](pandas_1.jpeg)"
   ]
  },
  {
   "cell_type": "code",
   "execution_count": null,
   "metadata": {},
   "outputs": [],
   "source": [
    "to be continued.."
   ]
  }
 ],
 "metadata": {
  "kernelspec": {
   "display_name": "Python 3",
   "language": "python",
   "name": "python3"
  },
  "language_info": {
   "codemirror_mode": {
    "name": "ipython",
    "version": 3
   },
   "file_extension": ".py",
   "mimetype": "text/x-python",
   "name": "python",
   "nbconvert_exporter": "python",
   "pygments_lexer": "ipython3",
   "version": "3.8.2"
  }
 },
 "nbformat": 4,
 "nbformat_minor": 4
}
