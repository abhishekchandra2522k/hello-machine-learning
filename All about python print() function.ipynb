{
 "cells": [
  {
   "cell_type": "markdown",
   "metadata": {},
   "source": [
    "## All About `print()`"
   ]
  },
  {
   "cell_type": "markdown",
   "metadata": {},
   "source": [
    "### In this notebook, You will know how to : \n",
    "\n",
    "    1. Avoid rough mistakes with python's print() function.\n",
    "    2. Deal with new lines, character encoding, and buffering. (Don't Worry if you haven't heard these terms before, they will be covered in details later on)\n",
    "    3. Write text to files.\n",
    "    4. Mock print() in unit tests\n",
    "    5. Build advanced user interface in terminal."
   ]
  },
  {
   "cell_type": "markdown",
   "metadata": {},
   "source": [
    "**NOTE** : This notebook will talk about `print()` function that is introduced in Python 3, this notebook will not contain any information related to previous print methods."
   ]
  },
  {
   "cell_type": "code",
   "execution_count": null,
   "metadata": {},
   "outputs": [],
   "source": []
  }
 ],
 "metadata": {
  "kernelspec": {
   "display_name": "Python 3",
   "language": "python",
   "name": "python3"
  },
  "language_info": {
   "codemirror_mode": {
    "name": "ipython",
    "version": 3
   },
   "file_extension": ".py",
   "mimetype": "text/x-python",
   "name": "python",
   "nbconvert_exporter": "python",
   "pygments_lexer": "ipython3",
   "version": "3.8.5"
  }
 },
 "nbformat": 4,
 "nbformat_minor": 4
}
