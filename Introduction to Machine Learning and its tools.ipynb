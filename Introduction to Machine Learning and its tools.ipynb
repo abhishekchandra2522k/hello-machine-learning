{
 "cells": [
  {
   "cell_type": "markdown",
   "metadata": {},
   "source": [
    "##### Contents that will be Covered in this Notebook : \n",
    "\n",
    "1. What is Machine Learning?\n",
    "2. Difference between a Machine Learning algorithm and a rule based algorithm.\n",
    "3. Supervised vs Unsupervised Learning.\n",
    "4. Classification vs Regression."
   ]
  },
  {
   "cell_type": "markdown",
   "metadata": {},
   "source": [
    "###### This notebook will contain much of a theory part to kick start your Journey in Machine Learning.\n",
    "\n",
    "Read everything carefully and two times for better understanding."
   ]
  },
  {
   "cell_type": "markdown",
   "metadata": {},
   "source": [
    "#### 1\n",
    "\n",
    "What are Columns and Rows?\n",
    "\n",
    "Columns : These are vertical data sets that represents the value of variables (or attributes).\n",
    "\n",
    "Rows : Rows represents samples of that corresponding to a particular column.\n",
    "\n"
   ]
  },
  {
   "cell_type": "markdown",
   "metadata": {},
   "source": []
  }
 ],
 "metadata": {
  "kernelspec": {
   "display_name": "Python 3",
   "language": "python",
   "name": "python3"
  },
  "language_info": {
   "codemirror_mode": {
    "name": "ipython",
    "version": 3
   },
   "file_extension": ".py",
   "mimetype": "text/x-python",
   "name": "python",
   "nbconvert_exporter": "python",
   "pygments_lexer": "ipython3",
   "version": "3.8.2"
  }
 },
 "nbformat": 4,
 "nbformat_minor": 4
}
